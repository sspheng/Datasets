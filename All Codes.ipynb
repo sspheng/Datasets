{
 "cells": [
  {
   "cell_type": "code",
   "execution_count": null,
   "id": "1cca3c16",
   "metadata": {},
   "outputs": [],
   "source": [
    "#loop"
   ]
  },
  {
   "cell_type": "code",
   "execution_count": null,
   "id": "bff18bb0",
   "metadata": {},
   "outputs": [],
   "source": [
    "for i in range(1,11):\n",
    "    print (i*i)"
   ]
  },
  {
   "cell_type": "code",
   "execution_count": null,
   "id": "cac43621",
   "metadata": {},
   "outputs": [],
   "source": [
    "while (num<=10):\n",
    "    print (num**2)\n",
    "    num= num+1"
   ]
  },
  {
   "cell_type": "code",
   "execution_count": null,
   "id": "20a68966",
   "metadata": {},
   "outputs": [],
   "source": [
    "num=10\n",
    "while num<=100:\n",
    "    print(num)\n",
    "    num=num+10\n",
    "else:\n",
    "    print('loop is finished')"
   ]
  },
  {
   "cell_type": "code",
   "execution_count": null,
   "id": "2e932c77",
   "metadata": {},
   "outputs": [],
   "source": [
    "for i in range(10,100,10):\n",
    "    print(i)"
   ]
  },
  {
   "cell_type": "code",
   "execution_count": null,
   "id": "3df630fe",
   "metadata": {},
   "outputs": [],
   "source": [
    "for i in range(100,10,-10):\n",
    "    print(i)"
   ]
  },
  {
   "cell_type": "code",
   "execution_count": null,
   "id": "6d6f4001",
   "metadata": {},
   "outputs": [],
   "source": [
    "for i in range(10):\n",
    "    if i%2==0:\n",
    "        print (i)\n",
    "    else:\n",
    "        break"
   ]
  },
  {
   "cell_type": "code",
   "execution_count": null,
   "id": "664a2e41",
   "metadata": {},
   "outputs": [],
   "source": [
    "for i in range(10):\n",
    "    if i%2==0:\n",
    "        print(i)"
   ]
  },
  {
   "cell_type": "code",
   "execution_count": null,
   "id": "8bf73629",
   "metadata": {},
   "outputs": [],
   "source": [
    "# Import data in Python"
   ]
  },
  {
   "cell_type": "code",
   "execution_count": null,
   "id": "4709cf17",
   "metadata": {},
   "outputs": [],
   "source": [
    "import pandas as pd\n",
    "\n",
    "df=pd.read_csv('/Users/sophengsok/Documents/Class/men2004.csv')"
   ]
  },
  {
   "cell_type": "code",
   "execution_count": null,
   "id": "544d7e19",
   "metadata": {},
   "outputs": [],
   "source": [
    "df.info()"
   ]
  },
  {
   "cell_type": "code",
   "execution_count": null,
   "id": "c2030bcf",
   "metadata": {},
   "outputs": [],
   "source": [
    "pd.options.display.min_rows =  900"
   ]
  },
  {
   "cell_type": "code",
   "execution_count": null,
   "id": "b467f555",
   "metadata": {},
   "outputs": [],
   "source": [
    "pd.options.display.max_rows = 10"
   ]
  },
  {
   "cell_type": "code",
   "execution_count": null,
   "id": "38f6fdab",
   "metadata": {},
   "outputs": [],
   "source": [
    "df.head(50)"
   ]
  },
  {
   "cell_type": "code",
   "execution_count": null,
   "id": "89807921",
   "metadata": {},
   "outputs": [],
   "source": [
    "df.tail(20)"
   ]
  },
  {
   "cell_type": "code",
   "execution_count": null,
   "id": "60594124",
   "metadata": {},
   "outputs": [],
   "source": [
    "df.describe()"
   ]
  },
  {
   "cell_type": "code",
   "execution_count": null,
   "id": "37c20c62",
   "metadata": {},
   "outputs": [],
   "source": [
    "df.describe(include='O')"
   ]
  },
  {
   "cell_type": "code",
   "execution_count": null,
   "id": "c05fb7ba",
   "metadata": {},
   "outputs": [],
   "source": [
    "# create new column in dataset insert() and []"
   ]
  },
  {
   "cell_type": "code",
   "execution_count": null,
   "id": "90bab6c0",
   "metadata": {},
   "outputs": [],
   "source": [
    "df.insert(6,'along_with_passenger',df.sibsp+df.parch)"
   ]
  },
  {
   "cell_type": "code",
   "execution_count": null,
   "id": "e834f01e",
   "metadata": {},
   "outputs": [],
   "source": [
    "df['YOB']=1912-df.age"
   ]
  },
  {
   "cell_type": "code",
   "execution_count": null,
   "id": "a68b3751",
   "metadata": {},
   "outputs": [],
   "source": [
    "# Accessing column from dataframe"
   ]
  },
  {
   "cell_type": "code",
   "execution_count": null,
   "id": "7ff0a4d0",
   "metadata": {},
   "outputs": [],
   "source": [
    "df[['fare','age']]"
   ]
  },
  {
   "cell_type": "code",
   "execution_count": null,
   "id": "db51ce13",
   "metadata": {},
   "outputs": [],
   "source": [
    "df.fare (only one column and cannot have space)"
   ]
  },
  {
   "cell_type": "code",
   "execution_count": null,
   "id": "ab52acc6",
   "metadata": {},
   "outputs": [],
   "source": [
    "# Arranging Clumn"
   ]
  },
  {
   "cell_type": "code",
   "execution_count": null,
   "id": "8cfd16c2",
   "metadata": {},
   "outputs": [],
   "source": [
    "df['survive','pclass','sex','age','YOB','sibsp','parch']"
   ]
  },
  {
   "cell_type": "code",
   "execution_count": null,
   "id": "de375ab3",
   "metadata": {},
   "outputs": [],
   "source": [
    "df.columns.values"
   ]
  },
  {
   "cell_type": "code",
   "execution_count": null,
   "id": "859eb781",
   "metadata": {},
   "outputs": [],
   "source": [
    "cols=list(df.columns.values)"
   ]
  },
  {
   "cell_type": "code",
   "execution_count": null,
   "id": "1afc23ad",
   "metadata": {},
   "outputs": [],
   "source": [
    "df[cols[0:4]+[cols[-1]]+cols[4:10]]"
   ]
  },
  {
   "cell_type": "code",
   "execution_count": null,
   "id": "023539b0",
   "metadata": {},
   "outputs": [],
   "source": [
    "cols[0:4]"
   ]
  },
  {
   "cell_type": "code",
   "execution_count": null,
   "id": "19be291f",
   "metadata": {},
   "outputs": [],
   "source": [
    "cols[4:10]"
   ]
  },
  {
   "cell_type": "code",
   "execution_count": null,
   "id": "f1f50e3e",
   "metadata": {},
   "outputs": [],
   "source": [
    "cols[-1]"
   ]
  },
  {
   "cell_type": "code",
   "execution_count": null,
   "id": "61e4be74",
   "metadata": {},
   "outputs": [],
   "source": [
    "df=df[cols[0:4]+[cols[-1]]+cols[4:10]]"
   ]
  },
  {
   "cell_type": "code",
   "execution_count": null,
   "id": "c0311404",
   "metadata": {},
   "outputs": [],
   "source": [
    "# Subsetting Data"
   ]
  },
  {
   "cell_type": "code",
   "execution_count": null,
   "id": "4e117fe6",
   "metadata": {},
   "outputs": [],
   "source": [
    "df_male=df[df['sex']=='male']"
   ]
  },
  {
   "cell_type": "code",
   "execution_count": null,
   "id": "9957244e",
   "metadata": {},
   "outputs": [],
   "source": [
    "df_female_kid=df[(df['sex']=='female')|(df['age']<=18)]"
   ]
  },
  {
   "cell_type": "code",
   "execution_count": null,
   "id": "04d4f8eb",
   "metadata": {},
   "outputs": [],
   "source": [
    "new_df=df[['sex','age','survived']]"
   ]
  },
  {
   "cell_type": "code",
   "execution_count": null,
   "id": "92cc0781",
   "metadata": {},
   "outputs": [],
   "source": [
    "df.dtypes"
   ]
  },
  {
   "cell_type": "code",
   "execution_count": null,
   "id": "16f03c3a",
   "metadata": {},
   "outputs": [],
   "source": [
    "df.select_dtypes(include=['float','int'])"
   ]
  },
  {
   "cell_type": "code",
   "execution_count": null,
   "id": "22472954",
   "metadata": {},
   "outputs": [],
   "source": [
    "df['pclass'].value_counts()"
   ]
  },
  {
   "cell_type": "code",
   "execution_count": null,
   "id": "2fb9b3b4",
   "metadata": {},
   "outputs": [],
   "source": [
    "df.pclass.nunique()"
   ]
  },
  {
   "cell_type": "code",
   "execution_count": null,
   "id": "977e70e8",
   "metadata": {},
   "outputs": [],
   "source": [
    "df.pclass.unique()"
   ]
  },
  {
   "cell_type": "code",
   "execution_count": null,
   "id": "175f8299",
   "metadata": {},
   "outputs": [],
   "source": [
    "df[(df['age']>20)&(df['age']<=30)] or"
   ]
  },
  {
   "cell_type": "code",
   "execution_count": null,
   "id": "6ebd5ea9",
   "metadata": {},
   "outputs": [],
   "source": [
    "df[df.age.between(20,30,inclusive=False)]"
   ]
  },
  {
   "cell_type": "code",
   "execution_count": null,
   "id": "3675b64c",
   "metadata": {},
   "outputs": [],
   "source": [
    "df[(df.age.between(20,30) & (df.pclass.between(1,2) & (df.fare>21)))]"
   ]
  },
  {
   "cell_type": "code",
   "execution_count": null,
   "id": "185d3699",
   "metadata": {},
   "outputs": [],
   "source": [
    "df[(df.deck=='A') | (df.deck=='B') | (df.deck=='C')] or"
   ]
  },
  {
   "cell_type": "code",
   "execution_count": null,
   "id": "295699b6",
   "metadata": {},
   "outputs": [],
   "source": [
    "deck=['A','B','C']"
   ]
  },
  {
   "cell_type": "code",
   "execution_count": null,
   "id": "24f37130",
   "metadata": {},
   "outputs": [],
   "source": [
    "df[df.deck.isin(deck)]"
   ]
  },
  {
   "cell_type": "code",
   "execution_count": null,
   "id": "1a491e1f",
   "metadata": {},
   "outputs": [],
   "source": [
    "df[~df.deck.isin(deck)]"
   ]
  },
  {
   "cell_type": "code",
   "execution_count": null,
   "id": "db000ff0",
   "metadata": {},
   "outputs": [],
   "source": [
    "df[df['deck'].isna()]"
   ]
  },
  {
   "cell_type": "code",
   "execution_count": null,
   "id": "462684fe",
   "metadata": {},
   "outputs": [],
   "source": [
    "df[df['deck'].isnull()]"
   ]
  },
  {
   "cell_type": "code",
   "execution_count": null,
   "id": "57f70064",
   "metadata": {},
   "outputs": [],
   "source": [
    "df.isnull().sum()"
   ]
  },
  {
   "cell_type": "code",
   "execution_count": null,
   "id": "6ee9d2d7",
   "metadata": {},
   "outputs": [],
   "source": [
    "# Handling missing values"
   ]
  },
  {
   "cell_type": "code",
   "execution_count": null,
   "id": "3e8e36e6",
   "metadata": {},
   "outputs": [],
   "source": [
    "df['age'].fillna(20, inplace=True)"
   ]
  },
  {
   "cell_type": "code",
   "execution_count": null,
   "id": "e3f79aa1",
   "metadata": {},
   "outputs": [],
   "source": [
    "df['age'].mean()"
   ]
  },
  {
   "cell_type": "code",
   "execution_count": null,
   "id": "e49c9697",
   "metadata": {},
   "outputs": [],
   "source": [
    "df['age'].fillna(df['age'].mean())"
   ]
  },
  {
   "cell_type": "code",
   "execution_count": null,
   "id": "ed9ed8ca",
   "metadata": {},
   "outputs": [],
   "source": [
    "df.fillna({'age':20,'deck':'C'})"
   ]
  },
  {
   "cell_type": "code",
   "execution_count": null,
   "id": "7cfa52b5",
   "metadata": {},
   "outputs": [],
   "source": [
    "df['age'].fillna(method ='ffill')"
   ]
  },
  {
   "cell_type": "code",
   "execution_count": null,
   "id": "7e2544fe",
   "metadata": {},
   "outputs": [],
   "source": [
    "df['age'].fillna(method ='bfill')"
   ]
  },
  {
   "cell_type": "code",
   "execution_count": null,
   "id": "ef9967a8",
   "metadata": {},
   "outputs": [],
   "source": [
    "df.drop(['fare'],axis=1)"
   ]
  },
  {
   "cell_type": "code",
   "execution_count": null,
   "id": "7efc5d80",
   "metadata": {},
   "outputs": [],
   "source": [
    "df.drop(df.clolumns[[0,6]], axis=1)"
   ]
  },
  {
   "cell_type": "code",
   "execution_count": null,
   "id": "2237bfc7",
   "metadata": {},
   "outputs": [],
   "source": [
    "df.drop(columns = 'fare')"
   ]
  },
  {
   "cell_type": "code",
   "execution_count": null,
   "id": "97810994",
   "metadata": {},
   "outputs": [],
   "source": [
    "# Access Row and Column (default is loc)"
   ]
  },
  {
   "cell_type": "code",
   "execution_count": null,
   "id": "5d903479",
   "metadata": {},
   "outputs": [],
   "source": [
    "df.iloc[10:30,[0,1,3]]"
   ]
  },
  {
   "cell_type": "code",
   "execution_count": null,
   "id": "05a5d791",
   "metadata": {},
   "outputs": [],
   "source": [
    "df.iloc[10:30,0:5]"
   ]
  },
  {
   "cell_type": "code",
   "execution_count": null,
   "id": "457e7518",
   "metadata": {},
   "outputs": [],
   "source": [
    "df.loc[10:30,['survived','pclass','age']] (loc will show whole rows 10-30 and label, iloc. 10:29, and integer. only)"
   ]
  },
  {
   "cell_type": "code",
   "execution_count": null,
   "id": "579a17bd",
   "metadata": {},
   "outputs": [],
   "source": [
    "df.iloc[ : , 0:4]"
   ]
  },
  {
   "cell_type": "code",
   "execution_count": null,
   "id": "3f2e2d7d",
   "metadata": {},
   "outputs": [],
   "source": [
    "df.iloc[5: ,0:4]"
   ]
  },
  {
   "cell_type": "code",
   "execution_count": null,
   "id": "934c0150",
   "metadata": {},
   "outputs": [],
   "source": [
    "df.iloc[0:10]"
   ]
  },
  {
   "cell_type": "code",
   "execution_count": null,
   "id": "5c23abab",
   "metadata": {},
   "outputs": [],
   "source": [
    "# Sorting the Data"
   ]
  },
  {
   "cell_type": "code",
   "execution_count": null,
   "id": "0314aa1c",
   "metadata": {},
   "outputs": [],
   "source": [
    "df.sort_values(by='fare')"
   ]
  },
  {
   "cell_type": "code",
   "execution_count": null,
   "id": "20b6d732",
   "metadata": {},
   "outputs": [],
   "source": [
    "df.sort_values(by=['pclass','age','fare'],ascending=[True,False,True])"
   ]
  },
  {
   "cell_type": "code",
   "execution_count": null,
   "id": "c62c9734",
   "metadata": {},
   "outputs": [],
   "source": [
    "df.sort_values(by=['pclass','age','fare'],ascending=[1,0,1])"
   ]
  },
  {
   "cell_type": "code",
   "execution_count": null,
   "id": "5502cdb9",
   "metadata": {},
   "outputs": [],
   "source": [
    "df.reset_index(drop=True)"
   ]
  },
  {
   "cell_type": "code",
   "execution_count": null,
   "id": "acd6951f",
   "metadata": {},
   "outputs": [],
   "source": [
    "df.reset_index()"
   ]
  },
  {
   "cell_type": "code",
   "execution_count": null,
   "id": "6722973b",
   "metadata": {},
   "outputs": [],
   "source": [
    "df.agg(['mean','median','std','var'])"
   ]
  },
  {
   "cell_type": "code",
   "execution_count": null,
   "id": "ed29a382",
   "metadata": {},
   "outputs": [],
   "source": [
    "df.agg({'survided':'mean','age':['min','max'],'fare':['min','max'],'parch':'sum'})"
   ]
  },
  {
   "cell_type": "code",
   "execution_count": null,
   "id": "97308ed8",
   "metadata": {},
   "outputs": [],
   "source": [
    "df.set_index('pclass','sex')"
   ]
  },
  {
   "cell_type": "code",
   "execution_count": null,
   "id": "c05d9c2d",
   "metadata": {},
   "outputs": [],
   "source": [
    "df.swaplevel()"
   ]
  },
  {
   "cell_type": "code",
   "execution_count": null,
   "id": "dcb5c3f8",
   "metadata": {},
   "outputs": [],
   "source": [
    "# Pivottable, Groupby, Merging the Data"
   ]
  },
  {
   "cell_type": "code",
   "execution_count": null,
   "id": "53d872bf",
   "metadata": {},
   "outputs": [],
   "source": [
    "pd.pivot_table(df,values='fare',index='deck',aggfunc=['min','max'])"
   ]
  },
  {
   "cell_type": "code",
   "execution_count": null,
   "id": "c82321c3",
   "metadata": {},
   "outputs": [],
   "source": [
    "pd.pivot_table(df,values='survived',index='sex',aggfunc='sum')"
   ]
  },
  {
   "cell_type": "code",
   "execution_count": null,
   "id": "c8be631a",
   "metadata": {},
   "outputs": [],
   "source": [
    "df.groupby('sex').mean()"
   ]
  },
  {
   "cell_type": "code",
   "execution_count": null,
   "id": "c1e97794",
   "metadata": {},
   "outputs": [],
   "source": [
    "df.groupby('deck')['pclass','fare'].mean()"
   ]
  },
  {
   "cell_type": "code",
   "execution_count": null,
   "id": "9a94b4dc",
   "metadata": {},
   "outputs": [],
   "source": [
    "df.groupby('sex')['survived'].mean()"
   ]
  },
  {
   "cell_type": "code",
   "execution_count": null,
   "id": "1570022f",
   "metadata": {},
   "outputs": [],
   "source": [
    "df.groupby('sex')['survived'].describe() or"
   ]
  },
  {
   "cell_type": "code",
   "execution_count": null,
   "id": "f7aa1950",
   "metadata": {},
   "outputs": [],
   "source": [
    "df.groupby('sex')['survived'].agg(['mean','min','max',])"
   ]
  },
  {
   "cell_type": "code",
   "execution_count": null,
   "id": "50880e4a",
   "metadata": {},
   "outputs": [],
   "source": [
    "df.groupby(['sex','pclass'])['survived'].mean()"
   ]
  },
  {
   "cell_type": "code",
   "execution_count": null,
   "id": "ffcbfb92",
   "metadata": {},
   "outputs": [],
   "source": [
    "men2004.append(men2008)"
   ]
  },
  {
   "cell_type": "code",
   "execution_count": null,
   "id": "4294269b",
   "metadata": {},
   "outputs": [],
   "source": [
    "pd.concat([men2004,men2008], ignore_index=True)"
   ]
  },
  {
   "cell_type": "code",
   "execution_count": null,
   "id": "25cfb0d0",
   "metadata": {},
   "outputs": [],
   "source": [
    "men2004.merge(men2008, how='inner', on = 'Athlete', suffixes = ('_2004','_2008'), indicator=True)"
   ]
  },
  {
   "cell_type": "code",
   "execution_count": null,
   "id": "ad685f72",
   "metadata": {},
   "outputs": [],
   "source": [
    "men2004.rename(columns={'Athlete':'Players'})"
   ]
  },
  {
   "cell_type": "code",
   "execution_count": null,
   "id": "f2ab9ad4",
   "metadata": {},
   "outputs": [],
   "source": [
    "men2004.merge(men2008, how='inner', left_on='players',right_on='Athlete',suffixes=('_2004','_2008'),indicator=True)"
   ]
  },
  {
   "cell_type": "code",
   "execution_count": null,
   "id": "3462486e",
   "metadata": {},
   "outputs": [],
   "source": [
    "df.replace(35,40)"
   ]
  },
  {
   "cell_type": "code",
   "execution_count": null,
   "id": "79828b46",
   "metadata": {},
   "outputs": [],
   "source": [
    "df['YOB'].astype('int64')"
   ]
  },
  {
   "cell_type": "code",
   "execution_count": null,
   "id": "d6f40eb6",
   "metadata": {},
   "outputs": [],
   "source": [
    "df.astype({'age':'int64'})"
   ]
  },
  {
   "cell_type": "code",
   "execution_count": null,
   "id": "9da78f5d",
   "metadata": {},
   "outputs": [],
   "source": [
    "df.select_dtypes('int64')"
   ]
  },
  {
   "cell_type": "code",
   "execution_count": null,
   "id": "f8c2a76c",
   "metadata": {},
   "outputs": [],
   "source": [
    "df.select_dtypes(['int64','float64'])"
   ]
  },
  {
   "cell_type": "code",
   "execution_count": null,
   "id": "1c44502b",
   "metadata": {},
   "outputs": [],
   "source": [
    "df.sample(n=200)"
   ]
  },
  {
   "cell_type": "code",
   "execution_count": null,
   "id": "75fd5047",
   "metadata": {},
   "outputs": [],
   "source": [
    "df.sample(frac=0.25)"
   ]
  },
  {
   "cell_type": "code",
   "execution_count": null,
   "id": "7e15db86",
   "metadata": {},
   "outputs": [],
   "source": [
    "pd.qcut('df['age']', q=5).value_counts()"
   ]
  },
  {
   "cell_type": "code",
   "execution_count": null,
   "id": "19c13b91",
   "metadata": {},
   "outputs": [],
   "source": [
    "# Numerical Python = Numpy"
   ]
  },
  {
   "cell_type": "code",
   "execution_count": null,
   "id": "262e2169",
   "metadata": {},
   "outputs": [],
   "source": [
    "x= np.array([1,2,3,4,5,'Pheng'])"
   ]
  },
  {
   "cell_type": "code",
   "execution_count": null,
   "id": "ae6ce5c9",
   "metadata": {},
   "outputs": [],
   "source": [
    "x= np.array(42)"
   ]
  },
  {
   "cell_type": "code",
   "execution_count": null,
   "id": "05ad83fb",
   "metadata": {},
   "outputs": [],
   "source": [
    "x= np.array([[1,2,3],[3,4,5]])"
   ]
  },
  {
   "cell_type": "code",
   "execution_count": null,
   "id": "72179767",
   "metadata": {},
   "outputs": [],
   "source": [
    "x= np.array([[[1,2,3],[3,4,5],[6,7,8]]])"
   ]
  },
  {
   "cell_type": "code",
   "execution_count": null,
   "id": "091229c0",
   "metadata": {},
   "outputs": [],
   "source": [
    "x.ndim"
   ]
  },
  {
   "cell_type": "code",
   "execution_count": null,
   "id": "1a17c40e",
   "metadata": {},
   "outputs": [],
   "source": [
    "y= np.array([1,2,3,4,],ndmin=5)"
   ]
  },
  {
   "cell_type": "code",
   "execution_count": null,
   "id": "ca8cfe64",
   "metadata": {},
   "outputs": [],
   "source": [
    "# Accessing element in array"
   ]
  },
  {
   "cell_type": "code",
   "execution_count": null,
   "id": "93e84d3f",
   "metadata": {},
   "outputs": [],
   "source": [
    "z= np.array([1,2,3,4,5,6])"
   ]
  },
  {
   "cell_type": "code",
   "execution_count": null,
   "id": "62a482aa",
   "metadata": {},
   "outputs": [],
   "source": [
    "z[0]+z[1]"
   ]
  },
  {
   "cell_type": "code",
   "execution_count": null,
   "id": "5ff72caa",
   "metadata": {},
   "outputs": [],
   "source": [
    "z[-1]"
   ]
  },
  {
   "cell_type": "code",
   "execution_count": null,
   "id": "0238ffbf",
   "metadata": {},
   "outputs": [],
   "source": [
    "z[-3:-1]"
   ]
  },
  {
   "cell_type": "code",
   "execution_count": null,
   "id": "6bcc34a0",
   "metadata": {},
   "outputs": [],
   "source": [
    "y= np.array([[1,2,3],[4,5,6],[7,8,9]])"
   ]
  },
  {
   "cell_type": "code",
   "execution_count": null,
   "id": "b433d498",
   "metadata": {},
   "outputs": [],
   "source": [
    "y[0,2]=3"
   ]
  },
  {
   "cell_type": "code",
   "execution_count": null,
   "id": "36137655",
   "metadata": {},
   "outputs": [],
   "source": [
    "y[1,1:4]=array([5,6])"
   ]
  },
  {
   "cell_type": "code",
   "execution_count": null,
   "id": "5fe98ba6",
   "metadata": {},
   "outputs": [],
   "source": [
    "y[1,4:6] = array([])"
   ]
  },
  {
   "cell_type": "code",
   "execution_count": null,
   "id": "cc9bff7e",
   "metadata": {},
   "outputs": [],
   "source": [
    "y[3,4:6] = error"
   ]
  },
  {
   "cell_type": "code",
   "execution_count": null,
   "id": "0e7d439e",
   "metadata": {},
   "outputs": [],
   "source": [
    "# To check how many column and row in daty"
   ]
  },
  {
   "cell_type": "code",
   "execution_count": null,
   "id": "26078361",
   "metadata": {},
   "outputs": [],
   "source": [
    "y.shape"
   ]
  },
  {
   "cell_type": "code",
   "execution_count": null,
   "id": "8eb7f9e2",
   "metadata": {},
   "outputs": [],
   "source": [
    "y.dtype"
   ]
  },
  {
   "cell_type": "code",
   "execution_count": null,
   "id": "973d3ce1",
   "metadata": {},
   "outputs": [],
   "source": [
    "i = integer\n",
    "b = boolean\n",
    "c = complex\n",
    "O = object\n",
    "S = string\n",
    "u = int unsigned\n",
    "M = Datetime"
   ]
  },
  {
   "cell_type": "code",
   "execution_count": null,
   "id": "4d9ee97b",
   "metadata": {},
   "outputs": [],
   "source": [
    "# Reshaping array"
   ]
  },
  {
   "cell_type": "code",
   "execution_count": null,
   "id": "e177284c",
   "metadata": {},
   "outputs": [],
   "source": [
    "x= np.array([1,2,3,4,5,6,7,8,9])"
   ]
  },
  {
   "cell_type": "code",
   "execution_count": null,
   "id": "4bc38c43",
   "metadata": {},
   "outputs": [],
   "source": [
    "x_new= x.reshape(4,3)"
   ]
  },
  {
   "cell_type": "code",
   "execution_count": null,
   "id": "3af89265",
   "metadata": {},
   "outputs": [],
   "source": [
    "x_new= x.reshape(2,3,2)"
   ]
  },
  {
   "cell_type": "code",
   "execution_count": null,
   "id": "a1b71173",
   "metadata": {},
   "outputs": [],
   "source": [
    "arr1=np.array([4,5,6])"
   ]
  },
  {
   "cell_type": "code",
   "execution_count": null,
   "id": "095ef6c1",
   "metadata": {},
   "outputs": [],
   "source": [
    "arr2= np.array([11,12,13])"
   ]
  },
  {
   "cell_type": "code",
   "execution_count": null,
   "id": "797f3eed",
   "metadata": {},
   "outputs": [],
   "source": [
    "np.concatenate((arr1,arr2))"
   ]
  },
  {
   "cell_type": "code",
   "execution_count": null,
   "id": "d2d6f1b8",
   "metadata": {},
   "outputs": [],
   "source": [
    "arr1= np.array([[4,5,6],[7,8,9]])"
   ]
  },
  {
   "cell_type": "code",
   "execution_count": null,
   "id": "50627770",
   "metadata": {},
   "outputs": [],
   "source": [
    "arr2= np.array([[11,12,13],[15,16,17]])"
   ]
  },
  {
   "cell_type": "code",
   "execution_count": null,
   "id": "45cac565",
   "metadata": {},
   "outputs": [],
   "source": [
    "np.concatenate((arr1,arr2))"
   ]
  },
  {
   "cell_type": "code",
   "execution_count": null,
   "id": "8efdbc6b",
   "metadata": {},
   "outputs": [],
   "source": [
    "np.concatenate((arr1,arr2),axis=1)"
   ]
  },
  {
   "cell_type": "code",
   "execution_count": null,
   "id": "d19bef30",
   "metadata": {},
   "outputs": [],
   "source": [
    "np.concatenate((arr1,arr2),axis=0)"
   ]
  },
  {
   "cell_type": "code",
   "execution_count": null,
   "id": "37648e48",
   "metadata": {},
   "outputs": [],
   "source": [
    "arr1=np.array([4,5,6,7,8,9,10])"
   ]
  },
  {
   "cell_type": "code",
   "execution_count": null,
   "id": "3dc8a4fd",
   "metadata": {},
   "outputs": [],
   "source": [
    "np.array_split(arr1,3)"
   ]
  },
  {
   "cell_type": "code",
   "execution_count": null,
   "id": "5d75a792",
   "metadata": {},
   "outputs": [],
   "source": [
    "np.array_split(x_new,2,axis=0)"
   ]
  },
  {
   "cell_type": "code",
   "execution_count": null,
   "id": "bf3bd861",
   "metadata": {},
   "outputs": [],
   "source": [
    "np.array_split(x_new,2,axis=1)"
   ]
  },
  {
   "cell_type": "code",
   "execution_count": null,
   "id": "f91c0542",
   "metadata": {},
   "outputs": [],
   "source": [
    "np.where(x_new==6)"
   ]
  },
  {
   "cell_type": "code",
   "execution_count": null,
   "id": "40d39223",
   "metadata": {},
   "outputs": [],
   "source": [
    "np.where(x_new//)"
   ]
  },
  {
   "cell_type": "code",
   "execution_count": null,
   "id": "ed2fe034",
   "metadata": {},
   "outputs": [],
   "source": [
    "np.where(x_new%2==0)"
   ]
  },
  {
   "cell_type": "code",
   "execution_count": null,
   "id": "d13bb1fb",
   "metadata": {},
   "outputs": [],
   "source": [
    "np.searchsorted(arr1,7)"
   ]
  },
  {
   "cell_type": "code",
   "execution_count": null,
   "id": "b13a612c",
   "metadata": {},
   "outputs": [],
   "source": [
    "np.searchsorted(arr1,7,side='right')"
   ]
  },
  {
   "cell_type": "code",
   "execution_count": null,
   "id": "a9a23a76",
   "metadata": {},
   "outputs": [],
   "source": [
    "np.sort(x_new)"
   ]
  },
  {
   "cell_type": "code",
   "execution_count": null,
   "id": "4b5973ae",
   "metadata": {},
   "outputs": [],
   "source": [
    "import random"
   ]
  },
  {
   "cell_type": "code",
   "execution_count": null,
   "id": "1740e58d",
   "metadata": {},
   "outputs": [],
   "source": [
    "random.randint(0,50)"
   ]
  },
  {
   "cell_type": "code",
   "execution_count": null,
   "id": "246b0a40",
   "metadata": {},
   "outputs": [],
   "source": [
    "from numpy import random"
   ]
  },
  {
   "cell_type": "code",
   "execution_count": null,
   "id": "2c67b678",
   "metadata": {},
   "outputs": [],
   "source": [
    "random.randint(100, size=(10))"
   ]
  },
  {
   "cell_type": "code",
   "execution_count": null,
   "id": "dab1e230",
   "metadata": {},
   "outputs": [],
   "source": [
    "import keyword \n",
    "print(keyword.kwlist)\n",
    "len(keyword.kwlist)\n",
    "print(len(keyword.kwlist))"
   ]
  },
  {
   "cell_type": "code",
   "execution_count": null,
   "id": "d37f0cb5",
   "metadata": {},
   "outputs": [],
   "source": [
    "#to print letter in line\n",
    "\n",
    "a='amit'\n",
    "for i in a:\n",
    "    print(i,end='')\n",
    "    print(i,end='\\n') by default\n",
    "    print(i,end='\\t') by tab"
   ]
  },
  {
   "cell_type": "code",
   "execution_count": null,
   "id": "916f9808",
   "metadata": {},
   "outputs": [],
   "source": [
    "# For loop\n",
    "for i in sequence:(#sequence= string, list, tuple,dict, range)\n",
    "    stmt1\n",
    "    stmt2\n",
    "    stmt3\n",
    "    stmtn"
   ]
  },
  {
   "cell_type": "code",
   "execution_count": 2,
   "id": "b1b60d3e",
   "metadata": {},
   "outputs": [
    {
     "name": "stdout",
     "output_type": "stream",
     "text": [
      "amit\n",
      "amit\n",
      "amit\n",
      "amit\n",
      "amit\n",
      "amit\n"
     ]
    }
   ],
   "source": [
    "for i in range(6):\n",
    "    print('amit')"
   ]
  },
  {
   "cell_type": "code",
   "execution_count": 3,
   "id": "997dbae9",
   "metadata": {},
   "outputs": [
    {
     "name": "stdout",
     "output_type": "stream",
     "text": [
      "amit\n",
      "amit\n",
      "amit\n",
      "amit\n",
      "amit\n"
     ]
    }
   ],
   "source": [
    "#rang(start,end-1,step)\n",
    "for i in range(1,6): #. print from 1 to end-1, by default step=1\n",
    "    print('amit')"
   ]
  },
  {
   "cell_type": "code",
   "execution_count": null,
   "id": "7570de37",
   "metadata": {},
   "outputs": [],
   "source": [
    "#while loop\n",
    "initialize (optional)\n",
    "while condition:\n",
    "    stmt1\n",
    "    stmt2\n",
    "    stmt3\n",
    "    stmtn\n",
    "    updation (compusary)"
   ]
  },
  {
   "cell_type": "code",
   "execution_count": null,
   "id": "03924663",
   "metadata": {},
   "outputs": [],
   "source": [
    "i=1\n",
    "while i <=10:\n",
    "    print('amit')\n",
    "    i=i+1\n",
    "print (' i am outside the loop')"
   ]
  },
  {
   "cell_type": "code",
   "execution_count": 5,
   "id": "9604aeb3",
   "metadata": {},
   "outputs": [
    {
     "name": "stdout",
     "output_type": "stream",
     "text": [
      "enter the number123\n",
      "321\n"
     ]
    }
   ],
   "source": [
    "# Reverse given 3 digits number using while loop\n",
    "\n",
    "n=int(input('enter the number'))\n",
    "rev=0\n",
    "while n!=0:\n",
    "    digit = n%10\n",
    "    rev = rev*10+digit\n",
    "    n=n//10\n",
    "print(rev)"
   ]
  },
  {
   "cell_type": "code",
   "execution_count": 9,
   "id": "119cc39b",
   "metadata": {},
   "outputs": [
    {
     "name": "stdout",
     "output_type": "stream",
     "text": [
      "enter the number121\n",
      "121\n",
      "palindrom\n"
     ]
    }
   ],
   "source": [
    "#Write a python code to check given number is palindrom number or not\n",
    "\n",
    "n=int(input('enter the number'))\n",
    "temp=n\n",
    "rev=0\n",
    "while n!=0:\n",
    "    digit=n%10\n",
    "    rev=rev*10+digit\n",
    "    n=n//10\n",
    "print (rev)\n",
    "if rev==temp:\n",
    "    print('palindrom')\n",
    "else:\n",
    "    print('not')"
   ]
  },
  {
   "cell_type": "code",
   "execution_count": 11,
   "id": "51fb15fc",
   "metadata": {},
   "outputs": [
    {
     "name": "stdout",
     "output_type": "stream",
     "text": [
      "enter number121\n",
      "121\n",
      "palindrom\n"
     ]
    }
   ],
   "source": [
    "n=int(input('enter number'))\n",
    "temp=n\n",
    "rev=0\n",
    "while n!=0:\n",
    "    digit=n%10\n",
    "    rev=rev*10+digit\n",
    "    n=n//10\n",
    "print(rev)\n",
    "if rev==temp:\n",
    "    print('palindrom')\n",
    "else:\n",
    "    print ('not')"
   ]
  },
  {
   "cell_type": "code",
   "execution_count": 3,
   "id": "aeaeeedc",
   "metadata": {},
   "outputs": [
    {
     "name": "stdout",
     "output_type": "stream",
     "text": [
      "enter the number153\n",
      "armstrong\n"
     ]
    }
   ],
   "source": [
    "# Armstrong Number\n",
    "#153=1x1x1+5x5x5+3x3x3\n",
    "n = int(input('enter the number'))\n",
    "temp=n\n",
    "sum=0\n",
    "while n!=0:\n",
    "    digit= n%10\n",
    "    sum=sum+digit**3\n",
    "    n=n//10\n",
    "if sum==temp:\n",
    "    print('armstrong')\n",
    "else:\n",
    "    print('not')"
   ]
  },
  {
   "cell_type": "code",
   "execution_count": null,
   "id": "3ed23de1",
   "metadata": {},
   "outputs": [],
   "source": [
    "# Function\n",
    "1.Inbuild fuction/system define function \n",
    "2.User define fuction"
   ]
  },
  {
   "cell_type": "code",
   "execution_count": 4,
   "id": "2879fb45",
   "metadata": {},
   "outputs": [
    {
     "data": {
      "text/plain": [
       "2.0"
      ]
     },
     "execution_count": 4,
     "metadata": {},
     "output_type": "execute_result"
    }
   ],
   "source": [
    "import math\n",
    "math.sqrt(4)"
   ]
  },
  {
   "cell_type": "code",
   "execution_count": 5,
   "id": "f86fde14",
   "metadata": {},
   "outputs": [
    {
     "data": {
      "text/plain": [
       "2.718281828459045"
      ]
     },
     "execution_count": 5,
     "metadata": {},
     "output_type": "execute_result"
    }
   ],
   "source": [
    "math.e"
   ]
  },
  {
   "cell_type": "code",
   "execution_count": 6,
   "id": "03951681",
   "metadata": {},
   "outputs": [
    {
     "data": {
      "text/plain": [
       "3.141592653589793"
      ]
     },
     "execution_count": 6,
     "metadata": {},
     "output_type": "execute_result"
    }
   ],
   "source": [
    "math.pi"
   ]
  },
  {
   "cell_type": "code",
   "execution_count": 8,
   "id": "9e2e75b3",
   "metadata": {},
   "outputs": [
    {
     "data": {
      "text/plain": [
       "9.0"
      ]
     },
     "execution_count": 8,
     "metadata": {},
     "output_type": "execute_result"
    }
   ],
   "source": [
    "math.pow(3,2)"
   ]
  },
  {
   "cell_type": "code",
   "execution_count": null,
   "id": "80e57ada",
   "metadata": {},
   "outputs": [],
   "source": [
    "#User define function\n",
    "1.  Function definition\n",
    "2.  Function call"
   ]
  },
  {
   "cell_type": "code",
   "execution_count": null,
   "id": "7a9ae826",
   "metadata": {},
   "outputs": [],
   "source": [
    "1. Syntax of Function definition\n",
    "    \n",
    "    def functionName (parameters(input to function)):\n",
    "        stmt1\n",
    "        stmt2\n",
    "        stmt3\n",
    "        stmtn\n",
    "2. Syntax of Function call\n",
    "\n",
    "    functionName (parameters(input to. function))"
   ]
  },
  {
   "cell_type": "code",
   "execution_count": 54,
   "id": "1326897b",
   "metadata": {},
   "outputs": [],
   "source": [
    "def addition(a,b,c):\n",
    "    return (a+b+c)\n",
    "    #print('this function is addition of a b and c')"
   ]
  },
  {
   "cell_type": "code",
   "execution_count": 55,
   "id": "9cf526a2",
   "metadata": {},
   "outputs": [
    {
     "data": {
      "text/plain": [
       "6"
      ]
     },
     "execution_count": 55,
     "metadata": {},
     "output_type": "execute_result"
    }
   ],
   "source": [
    "addition(1,2,3)"
   ]
  },
  {
   "cell_type": "code",
   "execution_count": 15,
   "id": "b2216272",
   "metadata": {},
   "outputs": [
    {
     "ename": "TypeError",
     "evalue": "addition() missing 1 required positional argument: 'c'",
     "output_type": "error",
     "traceback": [
      "\u001b[0;31m---------------------------------------------------------------------------\u001b[0m",
      "\u001b[0;31mTypeError\u001b[0m                                 Traceback (most recent call last)",
      "\u001b[0;32m/var/folders/zm/pjfj84dx07df_wwx0sbd5j9r0000gn/T/ipykernel_85072/4294541423.py\u001b[0m in \u001b[0;36m<module>\u001b[0;34m\u001b[0m\n\u001b[0;32m----> 1\u001b[0;31m \u001b[0maddition\u001b[0m\u001b[0;34m(\u001b[0m\u001b[0;36m1\u001b[0m\u001b[0;34m,\u001b[0m\u001b[0;36m2\u001b[0m\u001b[0;34m)\u001b[0m\u001b[0;34m\u001b[0m\u001b[0;34m\u001b[0m\u001b[0m\n\u001b[0m",
      "\u001b[0;31mTypeError\u001b[0m: addition() missing 1 required positional argument: 'c'"
     ]
    }
   ],
   "source": [
    "addition(1,2)"
   ]
  },
  {
   "cell_type": "code",
   "execution_count": 17,
   "id": "469da41d",
   "metadata": {},
   "outputs": [
    {
     "name": "stdout",
     "output_type": "stream",
     "text": [
      "enter the first number 1\n",
      "enter the second number 2\n",
      "enter the third number 3\n",
      "6\n",
      "this function is addition of a b and c\n"
     ]
    }
   ],
   "source": [
    "addition(int(input('enter the first number ')),int(input('enter the second number ')),int(input('enter the third number ')))"
   ]
  },
  {
   "cell_type": "code",
   "execution_count": 19,
   "id": "68328a9c",
   "metadata": {},
   "outputs": [],
   "source": [
    "def demo():\n",
    "    print('hi this is function that does not take any input')"
   ]
  },
  {
   "cell_type": "code",
   "execution_count": 20,
   "id": "2b8976de",
   "metadata": {},
   "outputs": [
    {
     "name": "stdout",
     "output_type": "stream",
     "text": [
      "hi this is function that does not take any input\n"
     ]
    }
   ],
   "source": [
    "demo()"
   ]
  },
  {
   "cell_type": "code",
   "execution_count": 43,
   "id": "67c8403d",
   "metadata": {},
   "outputs": [],
   "source": [
    "#return result to function call\n",
    "\n",
    "def substract(a,b,c):\n",
    "    return(a-b-c)"
   ]
  },
  {
   "cell_type": "code",
   "execution_count": 44,
   "id": "04c42f06",
   "metadata": {},
   "outputs": [
    {
     "name": "stdout",
     "output_type": "stream",
     "text": [
      "-7\n"
     ]
    }
   ],
   "source": [
    "res= substract(2,4,5)\n",
    "print(res)"
   ]
  },
  {
   "cell_type": "code",
   "execution_count": 34,
   "id": "9942d16e",
   "metadata": {},
   "outputs": [
    {
     "data": {
      "text/plain": [
       "-7"
      ]
     },
     "execution_count": 34,
     "metadata": {},
     "output_type": "execute_result"
    }
   ],
   "source": [
    "substract(2,4,5)"
   ]
  },
  {
   "cell_type": "code",
   "execution_count": 48,
   "id": "9f38f7bb",
   "metadata": {},
   "outputs": [
    {
     "name": "stdout",
     "output_type": "stream",
     "text": [
      "6\n",
      "this function is addition of a b and c\n"
     ]
    },
    {
     "ename": "TypeError",
     "evalue": "unsupported operand type(s) for *: 'NoneType' and 'int'",
     "output_type": "error",
     "traceback": [
      "\u001b[0;31m---------------------------------------------------------------------------\u001b[0m",
      "\u001b[0;31mTypeError\u001b[0m                                 Traceback (most recent call last)",
      "\u001b[0;32m/var/folders/zm/pjfj84dx07df_wwx0sbd5j9r0000gn/T/ipykernel_85072/4223013968.py\u001b[0m in \u001b[0;36m<module>\u001b[0;34m\u001b[0m\n\u001b[0;32m----> 1\u001b[0;31m \u001b[0maddition\u001b[0m\u001b[0;34m(\u001b[0m\u001b[0;36m1\u001b[0m\u001b[0;34m,\u001b[0m\u001b[0;36m2\u001b[0m\u001b[0;34m,\u001b[0m\u001b[0;36m3\u001b[0m\u001b[0;34m)\u001b[0m\u001b[0;34m*\u001b[0m\u001b[0msubstract\u001b[0m\u001b[0;34m(\u001b[0m\u001b[0;36m4\u001b[0m\u001b[0;34m,\u001b[0m\u001b[0;36m5\u001b[0m\u001b[0;34m,\u001b[0m\u001b[0;36m6\u001b[0m\u001b[0;34m)\u001b[0m\u001b[0;34m\u001b[0m\u001b[0;34m\u001b[0m\u001b[0m\n\u001b[0m",
      "\u001b[0;31mTypeError\u001b[0m: unsupported operand type(s) for *: 'NoneType' and 'int'"
     ]
    }
   ],
   "source": [
    "addition(1,2,3)*substract(4,5,6)"
   ]
  },
  {
   "cell_type": "code",
   "execution_count": 56,
   "id": "46913d42",
   "metadata": {},
   "outputs": [
    {
     "data": {
      "text/plain": [
       "-42"
      ]
     },
     "execution_count": 56,
     "metadata": {},
     "output_type": "execute_result"
    }
   ],
   "source": [
    "addition(1,2,3)*substract(4,5,6)"
   ]
  },
  {
   "cell_type": "code",
   "execution_count": 57,
   "id": "160988e9",
   "metadata": {},
   "outputs": [],
   "source": [
    "#by default function return 'None' value\n",
    "\n",
    "def demo():\n",
    "    print('This is demo')"
   ]
  },
  {
   "cell_type": "code",
   "execution_count": 58,
   "id": "9bb05c32",
   "metadata": {},
   "outputs": [
    {
     "name": "stdout",
     "output_type": "stream",
     "text": [
      "This is demo\n",
      "None\n"
     ]
    }
   ],
   "source": [
    "print(demo())"
   ]
  },
  {
   "cell_type": "code",
   "execution_count": 1,
   "id": "fc46fbfb",
   "metadata": {},
   "outputs": [],
   "source": [
    "# Function to calculate sum of 3 digits number\n",
    "\n",
    "def sumDigit(n):\n",
    "    sum=0\n",
    "    while n!=0:\n",
    "        digit=n%10\n",
    "        sum=sum+digit\n",
    "        n=n//10\n",
    "    return (sum)"
   ]
  },
  {
   "cell_type": "code",
   "execution_count": 3,
   "id": "97c76f47",
   "metadata": {},
   "outputs": [
    {
     "data": {
      "text/plain": [
       "6"
      ]
     },
     "execution_count": 3,
     "metadata": {},
     "output_type": "execute_result"
    }
   ],
   "source": [
    "sumDigit(123)"
   ]
  },
  {
   "cell_type": "code",
   "execution_count": 4,
   "id": "5afc3c23",
   "metadata": {},
   "outputs": [
    {
     "name": "stdout",
     "output_type": "stream",
     "text": [
      "enter 3 digit number: 456\n"
     ]
    },
    {
     "data": {
      "text/plain": [
       "15"
      ]
     },
     "execution_count": 4,
     "metadata": {},
     "output_type": "execute_result"
    }
   ],
   "source": [
    "sumDigit(int(input('enter 3 digit number: ')))"
   ]
  },
  {
   "cell_type": "code",
   "execution_count": 23,
   "id": "d8cfc2db",
   "metadata": {},
   "outputs": [
    {
     "name": "stdout",
     "output_type": "stream",
     "text": [
      "Hi This is hi and amit\n"
     ]
    }
   ],
   "source": [
    "# Type of Parameters\n",
    "\n",
    "#1 Positioning argument\n",
    "\n",
    "def demo(name,msg):\n",
    "    print('Hi This is {} and {}'.format(name,msg))\n",
    "demo('hi','amit')"
   ]
  },
  {
   "cell_type": "code",
   "execution_count": 26,
   "id": "cb13bd20",
   "metadata": {},
   "outputs": [],
   "source": [
    "#2 Key Base argument\n",
    "\n",
    "# we can pass argument. value by keys ie argument/paratmeter name.\n",
    "# key word argument always come after positional argument\n",
    "\n",
    "# sometime we can provide default argument to positional argument\n",
    "\n",
    "def greet (name,msg):\n",
    "    print (name,msg)"
   ]
  },
  {
   "cell_type": "code",
   "execution_count": 31,
   "id": "6f11c65a",
   "metadata": {},
   "outputs": [
    {
     "name": "stdout",
     "output_type": "stream",
     "text": [
      "pheng good evening\n",
      "pheng good evening\n",
      "pheng good evening\n"
     ]
    }
   ],
   "source": [
    "greet (name='pheng',msg='good evening')\n",
    "greet (msg='good evening',name='pheng')\n",
    "greet ('pheng',msg='good evening')"
   ]
  },
  {
   "cell_type": "code",
   "execution_count": 30,
   "id": "c0dcdd32",
   "metadata": {},
   "outputs": [
    {
     "ename": "SyntaxError",
     "evalue": "positional argument follows keyword argument (2833829417.py, line 1)",
     "output_type": "error",
     "traceback": [
      "\u001b[0;36m  File \u001b[0;32m\"/var/folders/zm/pjfj84dx07df_wwx0sbd5j9r0000gn/T/ipykernel_85819/2833829417.py\"\u001b[0;36m, line \u001b[0;32m1\u001b[0m\n\u001b[0;31m    greet (name='pheng','good evening')\u001b[0m\n\u001b[0m                                      ^\u001b[0m\n\u001b[0;31mSyntaxError\u001b[0m\u001b[0;31m:\u001b[0m positional argument follows keyword argument\n"
     ]
    }
   ],
   "source": [
    "greet (name='pheng','good evening')"
   ]
  },
  {
   "cell_type": "code",
   "execution_count": null,
   "id": "69b90728",
   "metadata": {},
   "outputs": [],
   "source": [
    "greet ('good evening', name='pheng') # this is invalid becuase we passing multiple to name variable"
   ]
  },
  {
   "cell_type": "code",
   "execution_count": 38,
   "id": "045d0b4d",
   "metadata": {},
   "outputs": [
    {
     "data": {
      "text/plain": [
       "6"
      ]
     },
     "execution_count": 38,
     "metadata": {},
     "output_type": "execute_result"
    }
   ],
   "source": [
    "# default argument\n",
    "# if we give number to parameter it will replace the default argument\n",
    "def addition(a,b=0,c=0):\n",
    "    return (a+b+c)\n",
    "\n",
    "addition (1,2,3)"
   ]
  },
  {
   "cell_type": "code",
   "execution_count": 50,
   "id": "1186b433",
   "metadata": {},
   "outputs": [],
   "source": [
    "def addition(a=None,b=None,c=None):\n",
    "    if  a!=None and b!=None and c!=None:\n",
    "        print (a+b+c)\n",
    "    elif a!=None and c!=None:\n",
    "        print (a+c)\n",
    "    elif b!=None and c!=None:\n",
    "        print (b+c)\n",
    "    elif a!=None and b!=None:\n",
    "        print (a+b)\n",
    "    else:\n",
    "        print ('provide 2 or 3 argument')"
   ]
  },
  {
   "cell_type": "code",
   "execution_count": 51,
   "id": "0efb191d",
   "metadata": {},
   "outputs": [
    {
     "name": "stdout",
     "output_type": "stream",
     "text": [
      "9\n"
     ]
    }
   ],
   "source": [
    "addition(2,3,4)"
   ]
  },
  {
   "cell_type": "code",
   "execution_count": 1,
   "id": "3c548050",
   "metadata": {},
   "outputs": [],
   "source": [
    "def greet(name, msg='good evening'):\n",
    "    print(name,msg)"
   ]
  },
  {
   "cell_type": "code",
   "execution_count": 2,
   "id": "92493927",
   "metadata": {},
   "outputs": [
    {
     "ename": "TypeError",
     "evalue": "greet() missing 1 required positional argument: 'name'",
     "output_type": "error",
     "traceback": [
      "\u001b[0;31m---------------------------------------------------------------------------\u001b[0m",
      "\u001b[0;31mTypeError\u001b[0m                                 Traceback (most recent call last)",
      "\u001b[0;32m/var/folders/zm/pjfj84dx07df_wwx0sbd5j9r0000gn/T/ipykernel_923/2890983093.py\u001b[0m in \u001b[0;36m<module>\u001b[0;34m\u001b[0m\n\u001b[0;32m----> 1\u001b[0;31m \u001b[0mgreet\u001b[0m\u001b[0;34m(\u001b[0m\u001b[0;34m)\u001b[0m\u001b[0;34m\u001b[0m\u001b[0;34m\u001b[0m\u001b[0m\n\u001b[0m",
      "\u001b[0;31mTypeError\u001b[0m: greet() missing 1 required positional argument: 'name'"
     ]
    }
   ],
   "source": [
    "greet()"
   ]
  },
  {
   "cell_type": "code",
   "execution_count": 3,
   "id": "6e9efd06",
   "metadata": {},
   "outputs": [
    {
     "name": "stdout",
     "output_type": "stream",
     "text": [
      "amit good evening\n"
     ]
    }
   ],
   "source": [
    "greet('amit')"
   ]
  },
  {
   "cell_type": "code",
   "execution_count": 4,
   "id": "e864b5c4",
   "metadata": {},
   "outputs": [
    {
     "name": "stdout",
     "output_type": "stream",
     "text": [
      "good evening good evening\n"
     ]
    }
   ],
   "source": [
    "greet('good evening')"
   ]
  },
  {
   "cell_type": "code",
   "execution_count": 5,
   "id": "56e32914",
   "metadata": {},
   "outputs": [
    {
     "name": "stdout",
     "output_type": "stream",
     "text": [
      "amit GE\n"
     ]
    }
   ],
   "source": [
    "greet('amit','GE')"
   ]
  },
  {
   "cell_type": "code",
   "execution_count": null,
   "id": "3863f643",
   "metadata": {},
   "outputs": [],
   "source": [
    "# Variable Length Argument\n",
    "def f1(*n):\n",
    "    stmt1\n",
    "    stmt2"
   ]
  },
  {
   "cell_type": "code",
   "execution_count": 6,
   "id": "26ab0a95",
   "metadata": {},
   "outputs": [],
   "source": [
    "def printnumber(*n):\n",
    "    print(type(n))\n",
    "    print(n)"
   ]
  },
  {
   "cell_type": "code",
   "execution_count": 7,
   "id": "77a8ce65",
   "metadata": {},
   "outputs": [
    {
     "name": "stdout",
     "output_type": "stream",
     "text": [
      "<class 'tuple'>\n",
      "(1,)\n"
     ]
    }
   ],
   "source": [
    "printnumber(1)"
   ]
  },
  {
   "cell_type": "code",
   "execution_count": 8,
   "id": "8cb28043",
   "metadata": {},
   "outputs": [
    {
     "name": "stdout",
     "output_type": "stream",
     "text": [
      "<class 'tuple'>\n",
      "(1, 2, 3)\n"
     ]
    }
   ],
   "source": [
    "printnumber(1,2,3)"
   ]
  },
  {
   "cell_type": "code",
   "execution_count": null,
   "id": "647df759",
   "metadata": {},
   "outputs": [],
   "source": [
    "# accept N number of natural number and print the sum of it"
   ]
  },
  {
   "cell_type": "code",
   "execution_count": 11,
   "id": "8561ef14",
   "metadata": {},
   "outputs": [],
   "source": [
    "def printnumber(*n):\n",
    "    sum=0\n",
    "    for i in n:\n",
    "        sum+=i\n",
    "    print(sum)"
   ]
  },
  {
   "cell_type": "code",
   "execution_count": 12,
   "id": "2ce1ab6b",
   "metadata": {},
   "outputs": [
    {
     "name": "stdout",
     "output_type": "stream",
     "text": [
      "6\n"
     ]
    }
   ],
   "source": [
    "printnumber(1,2,3)"
   ]
  },
  {
   "cell_type": "code",
   "execution_count": 17,
   "id": "9982b624",
   "metadata": {},
   "outputs": [
    {
     "name": "stdout",
     "output_type": "stream",
     "text": [
      "this is n1 2\n",
      "this is n2 12\n",
      "(13, 14)\n",
      "13\n",
      "14\n"
     ]
    }
   ],
   "source": [
    "def f1(n1,n2,*s):\n",
    "    print('this is n1',n1)\n",
    "    print('this is n2',n2)\n",
    "    print(s)\n",
    "    for s1 in s:\n",
    "        print(s1)\n",
    "f1(2,12,13,14)"
   ]
  },
  {
   "cell_type": "code",
   "execution_count": null,
   "id": "703a3101",
   "metadata": {},
   "outputs": [],
   "source": [
    "def fun(a,b,c=4,d=8):\n",
    "    print (a,b,c,d)\n",
    "#fun(3,2)\n",
    "#fun(11,22,33,44)\n",
    "#fun(25,50,d=100)\n",
    "#fun(d=11,a=22,b=3)\n",
    "#fun()\n",
    "#fun(a=2,b=3,2,3)\n",
    "#fun(3,4,a=2,b=3)\n",
    "#fun(4,5,a=3)\n",
    "#fun(4,5,c=10,e=20)"
   ]
  },
  {
   "cell_type": "code",
   "execution_count": null,
   "id": "af6966b5",
   "metadata": {},
   "outputs": [],
   "source": [
    "# List Comprehension\n",
    "     \n",
    "    newlist= [expression for member in iteration]"
   ]
  },
  {
   "cell_type": "code",
   "execution_count": 18,
   "id": "898936e4",
   "metadata": {},
   "outputs": [
    {
     "name": "stdout",
     "output_type": "stream",
     "text": [
      "[1, 4, 9, 16, 25]\n"
     ]
    }
   ],
   "source": [
    "a=[i*i for i in [1,2,3,4,5]]\n",
    "print (a)"
   ]
  },
  {
   "cell_type": "code",
   "execution_count": 20,
   "id": "52f0d4e2",
   "metadata": {},
   "outputs": [
    {
     "name": "stdout",
     "output_type": "stream",
     "text": [
      "[4, 16]\n"
     ]
    }
   ],
   "source": [
    "a=[i*i for i in [1,2,3,4,5] if i%2==0]\n",
    "print(a)"
   ]
  },
  {
   "cell_type": "code",
   "execution_count": 21,
   "id": "8f419a56",
   "metadata": {},
   "outputs": [
    {
     "name": "stdout",
     "output_type": "stream",
     "text": [
      "[0, 1, 4, 9, 16, 25, 36, 49, 64, 81]\n"
     ]
    }
   ],
   "source": [
    "a=[i*i for i in range(10)]\n",
    "print(a)"
   ]
  },
  {
   "cell_type": "code",
   "execution_count": 23,
   "id": "9582b94a",
   "metadata": {},
   "outputs": [
    {
     "name": "stdout",
     "output_type": "stream",
     "text": [
      "[0, 10, 20, 30, 40, 50, 60, 70, 80, 90]\n"
     ]
    }
   ],
   "source": [
    "a=[i for i in range(100) if i%2==0 if i%5==0]\n",
    "print(a)"
   ]
  },
  {
   "cell_type": "code",
   "execution_count": 33,
   "id": "1aaaecb6",
   "metadata": {},
   "outputs": [
    {
     "name": "stdout",
     "output_type": "stream",
     "text": [
      "['i', 'i', 'o', 'a', 'i', 'i']\n"
     ]
    }
   ],
   "source": [
    "z=[i for i in 'this is python training' if i in 'aeiou']\n",
    "print(z)"
   ]
  },
  {
   "cell_type": "code",
   "execution_count": 34,
   "id": "29518b3e",
   "metadata": {},
   "outputs": [
    {
     "name": "stdout",
     "output_type": "stream",
     "text": [
      "['even', 'odd', 'even', 'odd', 'even', 'odd', 'even', 'odd', 'even', 'odd']\n"
     ]
    }
   ],
   "source": [
    "a=['even' if i%2==0 else \"odd\" for i in range(10)]\n",
    "print (a)"
   ]
  },
  {
   "cell_type": "code",
   "execution_count": 37,
   "id": "3b705c4d",
   "metadata": {},
   "outputs": [
    {
     "ename": "SyntaxError",
     "evalue": "invalid syntax (1624633593.py, line 1)",
     "output_type": "error",
     "traceback": [
      "\u001b[0;36m  File \u001b[0;32m\"/var/folders/zm/pjfj84dx07df_wwx0sbd5j9r0000gn/T/ipykernel_923/1624633593.py\"\u001b[0;36m, line \u001b[0;32m1\u001b[0m\n\u001b[0;31m    a=[i for i in range(10) if i%2==0 'even' else 'odd']\u001b[0m\n\u001b[0m                                      ^\u001b[0m\n\u001b[0;31mSyntaxError\u001b[0m\u001b[0;31m:\u001b[0m invalid syntax\n"
     ]
    }
   ],
   "source": [
    "a=[for i in range(10) if i%2==0 'even' else 'odd']\n",
    "print(a)"
   ]
  },
  {
   "cell_type": "code",
   "execution_count": 39,
   "id": "dbf206eb",
   "metadata": {},
   "outputs": [
    {
     "name": "stdout",
     "output_type": "stream",
     "text": [
      "['positive', 'negative', 'positive', 'positive', 'negative', 'positive']\n"
     ]
    }
   ],
   "source": [
    "p=[1.25,-9.45,10.22,3.78,-5.92,1.16]\n",
    "a=['positive' if i>=0 else 'negative' for i in p]\n",
    "print (a)"
   ]
  },
  {
   "cell_type": "code",
   "execution_count": 40,
   "id": "d65109f1",
   "metadata": {},
   "outputs": [
    {
     "name": "stdout",
     "output_type": "stream",
     "text": [
      "[1, 8, 27, 64, 125]\n"
     ]
    }
   ],
   "source": [
    "# we can call function in place of expression\n",
    "\n",
    "def cube(x):\n",
    "    return (x**3)\n",
    "l=[1,2,3,4,5]\n",
    "a=[cube(i) for i in l]\n",
    "print(a)"
   ]
  },
  {
   "cell_type": "code",
   "execution_count": null,
   "id": "bac69ba7",
   "metadata": {},
   "outputs": [],
   "source": [
    "#anonymous function\n",
    "#function without name is call anonymous function\n",
    "#we use lambda keyword to define this function\n",
    "#syntex\n",
    "# variable= lambda varibalelist:expression"
   ]
  },
  {
   "cell_type": "code",
   "execution_count": 42,
   "id": "54e6a8c9",
   "metadata": {},
   "outputs": [
    {
     "data": {
      "text/plain": [
       "25"
      ]
     },
     "execution_count": 42,
     "metadata": {},
     "output_type": "execute_result"
    }
   ],
   "source": [
    "a= lambda n:n*n\n",
    "a(5)"
   ]
  },
  {
   "cell_type": "code",
   "execution_count": 43,
   "id": "5924fbe1",
   "metadata": {},
   "outputs": [
    {
     "data": {
      "text/plain": [
       "18"
      ]
     },
     "execution_count": 43,
     "metadata": {},
     "output_type": "execute_result"
    }
   ],
   "source": [
    "b=lambda a,b,c=9:a*b*c\n",
    "b(1,2)"
   ]
  },
  {
   "cell_type": "code",
   "execution_count": 47,
   "id": "d51ce15e",
   "metadata": {},
   "outputs": [
    {
     "data": {
      "text/plain": [
       "5"
      ]
     },
     "execution_count": 47,
     "metadata": {},
     "output_type": "execute_result"
    }
   ],
   "source": [
    "# find the largest number using lambda function\n",
    "a=lambda a,b,c: a if a>b or a>c else b if b>c else c\n",
    "a(1,3,5)"
   ]
  },
  {
   "cell_type": "code",
   "execution_count": 48,
   "id": "2075212f",
   "metadata": {},
   "outputs": [
    {
     "name": "stdout",
     "output_type": "stream",
     "text": [
      "555\n"
     ]
    }
   ],
   "source": [
    "b=[222,333,444,555,2,1]\n",
    "print(max(b,key=lambda value:int(value)))"
   ]
  },
  {
   "cell_type": "code",
   "execution_count": 49,
   "id": "ee15b26b",
   "metadata": {},
   "outputs": [
    {
     "data": {
      "text/plain": [
       "3434"
      ]
     },
     "execution_count": 49,
     "metadata": {},
     "output_type": "execute_result"
    }
   ],
   "source": [
    "c=lambda a,b,c:max(a,b,c)\n",
    "c(12,3434,543)"
   ]
  },
  {
   "cell_type": "code",
   "execution_count": 50,
   "id": "78bd112d",
   "metadata": {},
   "outputs": [
    {
     "name": "stdout",
     "output_type": "stream",
     "text": [
      "[2, 4, 6]\n"
     ]
    }
   ],
   "source": [
    "#filter()\n",
    "#it is use to filter data\n",
    "#we can use it in lambda\n",
    "#syntax\n",
    "\n",
    "#Filter(function,sequesnce)\n",
    "\n",
    "def isEven(x):\n",
    "    if x%2==0:\n",
    "        return True\n",
    "    else:\n",
    "        return False\n",
    "    \n",
    "result=list(filter(isEven,[1,2,3,4,5,6]))\n",
    "print(result)"
   ]
  },
  {
   "cell_type": "code",
   "execution_count": 52,
   "id": "141874a1",
   "metadata": {},
   "outputs": [
    {
     "name": "stdout",
     "output_type": "stream",
     "text": [
      "[2, 4, 6]\n"
     ]
    }
   ],
   "source": [
    "result1=list(filter(lambda x:x%2==0,[1,2,3,4,5,6]))\n",
    "print(result1)"
   ]
  },
  {
   "cell_type": "code",
   "execution_count": 53,
   "id": "9d73a7b9",
   "metadata": {},
   "outputs": [
    {
     "name": "stdout",
     "output_type": "stream",
     "text": [
      "[1, 4]\n"
     ]
    }
   ],
   "source": [
    "#filter postive and negative using filter function\n",
    "p=list(filter(lambda x:x>=0,[1,-2,4,-3]))\n",
    "print(p)"
   ]
  },
  {
   "cell_type": "code",
   "execution_count": 54,
   "id": "59d8f6ef",
   "metadata": {},
   "outputs": [
    {
     "name": "stdout",
     "output_type": "stream",
     "text": [
      "[2, 4, 6, 8]\n"
     ]
    }
   ],
   "source": [
    "#map()\n",
    "#for every element we perform some operation and generate new elements\n",
    "\n",
    "a=[1,2,3,4]\n",
    "def doublenum(x):\n",
    "    return x*2\n",
    "result=list(map(doublenum,[1,2,3,4]))\n",
    "print(result)"
   ]
  },
  {
   "cell_type": "code",
   "execution_count": 56,
   "id": "cc28e1e1",
   "metadata": {},
   "outputs": [
    {
     "name": "stdout",
     "output_type": "stream",
     "text": [
      "[False, True, False, True]\n"
     ]
    }
   ],
   "source": [
    "def iseven (x):\n",
    "    if x%2==0:\n",
    "        return True\n",
    "    else:\n",
    "        return False\n",
    "    \n",
    "result=list(map(iseven,[1,2,3,4]))\n",
    "print(result)"
   ]
  },
  {
   "cell_type": "code",
   "execution_count": 58,
   "id": "8856addb",
   "metadata": {},
   "outputs": [
    {
     "name": "stdout",
     "output_type": "stream",
     "text": [
      "34\n"
     ]
    }
   ],
   "source": [
    "#reduce()\n",
    "#reduce function reduces the sequence of elements into single element\n",
    "#syntax:\n",
    "#reduce(function,sequence)\n",
    "#this reduce function is present in functool module\n",
    "\n",
    "from functools import reduce\n",
    "result=reduce(lambda x,y:x+y,[1,2,3,4,6,10,1,3,4])\n",
    "print(result)\n",
    "\n",
    "#x=1,3,6,10,16,26,27,30,34\n",
    "#Y=2,3,4,6,10,1,3,4"
   ]
  },
  {
   "cell_type": "code",
   "execution_count": null,
   "id": "3c48c004",
   "metadata": {},
   "outputs": [],
   "source": [
    "#OOP (Object Oriented Programing)\n",
    "\n",
    "class ClassName:\n",
    "    ClassVariable (optional)\n",
    "    Constructor   (optional)\n",
    "    Method        (optional)"
   ]
  },
  {
   "cell_type": "code",
   "execution_count": 5,
   "id": "fa68b518",
   "metadata": {},
   "outputs": [],
   "source": [
    "class Demo:\n",
    "    \"\"\"This is Demo class\"\"\"\n",
    "    pass"
   ]
  },
  {
   "cell_type": "code",
   "execution_count": 7,
   "id": "d9341c18",
   "metadata": {},
   "outputs": [
    {
     "name": "stdout",
     "output_type": "stream",
     "text": [
      "This is Demo class\n"
     ]
    }
   ],
   "source": [
    "print(Demo.__doc__)"
   ]
  },
  {
   "cell_type": "code",
   "execution_count": 9,
   "id": "0b3a3924",
   "metadata": {},
   "outputs": [],
   "source": [
    "# 1. Create Class\n",
    "class student:\n",
    "    def accept(self):\n",
    "        self.name= input('Enter name:')\n",
    "        self.age= input('Enter age:')\n",
    "        self.add= input ('Enter add:')\n",
    "        self.salary= input ('Enter salary')\n",
    "    def display(self):\n",
    "        print (self.name,self.age,self.add,self.salary)\n",
    "    "
   ]
  },
  {
   "cell_type": "code",
   "execution_count": 10,
   "id": "25677682",
   "metadata": {},
   "outputs": [
    {
     "name": "stdout",
     "output_type": "stream",
     "text": [
      "Enter name:Pheng Sok\n",
      "Enter age:22\n",
      "Enter add:San Francisco\n",
      "Enter salary120000\n",
      "Pheng Sok 22 San Francisco 120000\n"
     ]
    }
   ],
   "source": [
    "# 2. Create Object - variable/object name = classname\n",
    "\n",
    "pheng= student() #create object\n",
    "pheng.accept()   #access instance function/method\n",
    "pheng.display()"
   ]
  },
  {
   "cell_type": "code",
   "execution_count": 11,
   "id": "203c4134",
   "metadata": {},
   "outputs": [
    {
     "name": "stdout",
     "output_type": "stream",
     "text": [
      "Pheng Sok\n"
     ]
    }
   ],
   "source": [
    "print(pheng.name) #access instance variable"
   ]
  },
  {
   "cell_type": "code",
   "execution_count": 12,
   "id": "cf9bbf70",
   "metadata": {},
   "outputs": [
    {
     "name": "stdout",
     "output_type": "stream",
     "text": [
      "22\n"
     ]
    }
   ],
   "source": [
    "print(pheng.age)"
   ]
  },
  {
   "cell_type": "code",
   "execution_count": 13,
   "id": "3e5f61bc",
   "metadata": {},
   "outputs": [
    {
     "name": "stdout",
     "output_type": "stream",
     "text": [
      "San Francisco\n"
     ]
    }
   ],
   "source": [
    "print(pheng.add)"
   ]
  },
  {
   "cell_type": "code",
   "execution_count": 14,
   "id": "017cb2ad",
   "metadata": {},
   "outputs": [
    {
     "data": {
      "text/plain": [
       "['__class__',\n",
       " '__delattr__',\n",
       " '__dict__',\n",
       " '__dir__',\n",
       " '__doc__',\n",
       " '__eq__',\n",
       " '__format__',\n",
       " '__ge__',\n",
       " '__getattribute__',\n",
       " '__gt__',\n",
       " '__hash__',\n",
       " '__init__',\n",
       " '__init_subclass__',\n",
       " '__le__',\n",
       " '__lt__',\n",
       " '__module__',\n",
       " '__ne__',\n",
       " '__new__',\n",
       " '__reduce__',\n",
       " '__reduce_ex__',\n",
       " '__repr__',\n",
       " '__setattr__',\n",
       " '__sizeof__',\n",
       " '__str__',\n",
       " '__subclasshook__',\n",
       " '__weakref__',\n",
       " 'accept',\n",
       " 'add',\n",
       " 'age',\n",
       " 'display',\n",
       " 'name',\n",
       " 'salary']"
      ]
     },
     "execution_count": 14,
     "metadata": {},
     "output_type": "execute_result"
    }
   ],
   "source": [
    "dir(pheng)"
   ]
  },
  {
   "cell_type": "code",
   "execution_count": 15,
   "id": "db8719fd",
   "metadata": {},
   "outputs": [
    {
     "name": "stdout",
     "output_type": "stream",
     "text": [
      "Enter name:Calvin So\n",
      "Enter age:25\n",
      "Enter add:San Francisco\n",
      "Enter salary150000\n",
      "Calvin So 25 San Francisco 150000\n"
     ]
    }
   ],
   "source": [
    "calvin=student()\n",
    "calvin.accept()\n",
    "calvin.display()"
   ]
  },
  {
   "cell_type": "code",
   "execution_count": null,
   "id": "22eb26aa",
   "metadata": {},
   "outputs": [],
   "source": [
    "# Constructor\n",
    "#1. It is special type of method\n",
    "#2. It is use to initialize the instance variable\n",
    "#3. Only one constructor in python\n",
    "#4. name of constructor is __init__()\n",
    "#5. Syntax\n",
    "    def __init__(self): #initializing instance variable\n",
    "#6. It is called when we created object"
   ]
  },
  {
   "cell_type": "code",
   "execution_count": 17,
   "id": "00e190cb",
   "metadata": {},
   "outputs": [],
   "source": [
    "class person:\n",
    "    def __init__(self): #constructor\n",
    "        print('This is constructor')"
   ]
  },
  {
   "cell_type": "code",
   "execution_count": 18,
   "id": "9562b7fe",
   "metadata": {},
   "outputs": [
    {
     "name": "stdout",
     "output_type": "stream",
     "text": [
      "This is constructor\n"
     ]
    }
   ],
   "source": [
    "p= person() #automatically call constructor"
   ]
  },
  {
   "cell_type": "code",
   "execution_count": 7,
   "id": "b4ff0914",
   "metadata": {},
   "outputs": [],
   "source": [
    "class person:\n",
    "    def __init__(self):\n",
    "        self.name= input('enter name')\n",
    "        self.age= input('enter age')\n",
    "        self.sal= input ('enter salary')\n",
    "    def display(self):\n",
    "        print(self.name,self.age,self.sal,self.dept,self.add)\n",
    "    def accept(self):\n",
    "        self.dept= input('enter department name')\n",
    "        self.add= input('enter address:')\n",
    "        "
   ]
  },
  {
   "cell_type": "code",
   "execution_count": 8,
   "id": "63ab6e6f",
   "metadata": {},
   "outputs": [
    {
     "name": "stdout",
     "output_type": "stream",
     "text": [
      "enter namepheng\n",
      "enter age30\n",
      "enter salary10000\n",
      "enter department nameDS\n",
      "enter address:USA\n",
      "pheng 30 10000 DS USA\n"
     ]
    }
   ],
   "source": [
    "p=person()\n",
    "p.accept()\n",
    "p.display()\n"
   ]
  },
  {
   "cell_type": "code",
   "execution_count": null,
   "id": "6e9e2832",
   "metadata": {},
   "outputs": [],
   "source": [
    "# Bank Case Study"
   ]
  },
  {
   "cell_type": "code",
   "execution_count": 16,
   "id": "82347006",
   "metadata": {},
   "outputs": [],
   "source": [
    "class Bank:\n",
    "    name= 'ABC Bank' #class variable/static variable\n",
    "    def __init__(self):\n",
    "        self.accNumber= input('enter account number')\n",
    "        self.name= input('eneter name')\n",
    "        self.initialbal= 1000\n",
    "    def accept(self):\n",
    "        self.age= input('enter age')\n",
    "        self.add= input('enter address')\n",
    "    def deposit(self):\n",
    "        print('Balance before deposit',self.initialbal)\n",
    "        self.depositAmt=int(input('enter deposit amount'))\n",
    "        self.bal= self.initialbal+self.depositAmt\n",
    "        print('Balance after deposit',self.bal)\n",
    "    def withdraw(self):\n",
    "        print('Balance before withdrawal', self.initialbal)\n",
    "        self.withdrawAmt=int(input('enter withdraw amount'))\n",
    "        if self.withdrawAmt >self.initialbal:\n",
    "            print('insufficience fund')\n",
    "        else:\n",
    "            self.bal=self.initialbal-self.withdrawAmt\n",
    "            print('Balance after withdrawal',self.bal)\n",
    "    def display(self):\n",
    "        print(Bank.name,self.accNumber,self.name,self.initialbal,self.age,self.add)"
   ]
  },
  {
   "cell_type": "code",
   "execution_count": 17,
   "id": "7d29d25d",
   "metadata": {},
   "outputs": [
    {
     "name": "stdout",
     "output_type": "stream",
     "text": [
      "enter account number88888\n",
      "eneter namePheng\n",
      "enter age30\n",
      "enter addressUSA\n",
      "Balance before deposit 1000\n",
      "enter deposit amount100000\n",
      "Balance after deposit 101000\n",
      "Balance before withdrawal 1000\n",
      "enter withdraw amount5000\n",
      "insufficience fund\n",
      "ABC Bank 88888 Pheng 1000 30 USA\n"
     ]
    }
   ],
   "source": [
    "b=Bank()\n",
    "b.accept()\n",
    "b.deposit()\n",
    "b.withdraw()\n",
    "b.display()"
   ]
  },
  {
   "cell_type": "code",
   "execution_count": 23,
   "id": "15101ed0",
   "metadata": {},
   "outputs": [
    {
     "name": "stdout",
     "output_type": "stream",
     "text": [
      "Enter the number of e100000\n",
      "100 10 1 2 100000 3 10000\n",
      "10 1 2\n",
      "100 10000\n"
     ]
    }
   ],
   "source": [
    "# Type of Variable in OOP\n",
    "#1 Instance Variable\n",
    "#2 Class/Static Variable\n",
    "#3 Local Variable\n",
    "\n",
    "class VariableDemo:\n",
    "    a=100 #class variable\n",
    "    def __init__(self,b,c,d): # b,c,d are local variable\n",
    "        self.a=10 #self.a,self.b,self.c,self.d are instance variable\n",
    "        self.b=b\n",
    "        self.c=c\n",
    "        self.d=d\n",
    "    def accept(self):\n",
    "        VariableDemo.z=10000\n",
    "        self.e=input('Enter the number of e')\n",
    "    def display(self):\n",
    "        print(VariableDemo.a,self.a,self.b,self.c,self.e,self.d,VariableDemo.z)\n",
    "        \n",
    "v=VariableDemo(1,2,3)\n",
    "v.accept()\n",
    "v.display()\n",
    "print (v.a,v.b,v.c) #access instance variable outside the class\n",
    "print(VariableDemo.a,VariableDemo.z) #access class variable outside the class"
   ]
  },
  {
   "cell_type": "code",
   "execution_count": null,
   "id": "df0cba55",
   "metadata": {},
   "outputs": [],
   "source": [
    "# Characteristics of OOP\n",
    "# 1. Inheritance\n",
    "# 2. Polymophism\n",
    "# 3. Encaapsulation\n",
    "# 4. Interface\n",
    "# 5. Abstraction\n"
   ]
  },
  {
   "cell_type": "code",
   "execution_count": null,
   "id": "2055b29f",
   "metadata": {},
   "outputs": [],
   "source": [
    "# 1. Inheritance\n",
    "    #Simple/Single inheritance\n",
    "    #Multilevel inheritance\n",
    "    #Multiple inheritance"
   ]
  },
  {
   "cell_type": "code",
   "execution_count": 8,
   "id": "4192d97f",
   "metadata": {},
   "outputs": [],
   "source": [
    "# Simple/Single Inheritance #Only one parent for child\n",
    "\n",
    "class parent:\n",
    "    def __init__(self):\n",
    "        self.a= input('Enter first number')\n",
    "        self.b= input('Enter second number')\n",
    "    def display(self):\n",
    "        print(self.a,self.b)\n",
    "\n",
    "class child(parent):\n",
    "    def __int__(self):\n",
    "        super().__init__()\n",
    "        self.c= 1000\n",
    "        print(self.c)\n",
    "        \n",
    "c=child()\n",
    "c.display()"
   ]
  },
  {
   "cell_type": "code",
   "execution_count": 6,
   "id": "e2ddfd69",
   "metadata": {},
   "outputs": [
    {
     "data": {
      "text/plain": [
       "['__class__',\n",
       " '__delattr__',\n",
       " '__dict__',\n",
       " '__dir__',\n",
       " '__doc__',\n",
       " '__eq__',\n",
       " '__format__',\n",
       " '__ge__',\n",
       " '__getattribute__',\n",
       " '__gt__',\n",
       " '__hash__',\n",
       " '__init__',\n",
       " '__init_subclass__',\n",
       " '__int__',\n",
       " '__le__',\n",
       " '__lt__',\n",
       " '__module__',\n",
       " '__ne__',\n",
       " '__new__',\n",
       " '__reduce__',\n",
       " '__reduce_ex__',\n",
       " '__repr__',\n",
       " '__setattr__',\n",
       " '__sizeof__',\n",
       " '__str__',\n",
       " '__subclasshook__',\n",
       " '__weakref__',\n",
       " 'a',\n",
       " 'b',\n",
       " 'display']"
      ]
     },
     "execution_count": 6,
     "metadata": {},
     "output_type": "execute_result"
    }
   ],
   "source": [
    "dir(c)"
   ]
  },
  {
   "cell_type": "code",
   "execution_count": 31,
   "id": "c815b9c0",
   "metadata": {},
   "outputs": [],
   "source": [
    "class person:\n",
    "    def accept(self):\n",
    "        self.ID= input('Enter ID:')\n",
    "        self.name= input('Enter Name:')\n",
    "        self.age= input('Enter Age:')\n",
    "        self.add= input('Enter Add:')\n",
    "        \n",
    "class Employee(person):\n",
    "    def __init__(self):\n",
    "        self.emp_dept= input('Enter Dept:')\n",
    "        self.emp_sal=input('Enter Salary:')\n",
    "    def display(self):\n",
    "        print(self.ID,self.name,self.age,self.add,self.emp_dept,self.emp_sal)\n",
    "        "
   ]
  },
  {
   "cell_type": "code",
   "execution_count": 32,
   "id": "9ebe57ee",
   "metadata": {},
   "outputs": [
    {
     "name": "stdout",
     "output_type": "stream",
     "text": [
      "Enter Dept:DS\n",
      "Enter Salary:100000\n",
      "Enter ID:ABC\n",
      "Enter Name:PHENG\n",
      "Enter Age:30\n",
      "Enter Add:USA\n",
      "ABC PHENG 30 USA DS 100000\n"
     ]
    }
   ],
   "source": [
    "e=Employee()\n",
    "e.accept()\n",
    "e.display()"
   ]
  },
  {
   "cell_type": "code",
   "execution_count": null,
   "id": "73c11482",
   "metadata": {},
   "outputs": [],
   "source": [
    "# Multilevel Inheritance"
   ]
  },
  {
   "cell_type": "code",
   "execution_count": 33,
   "id": "185084fb",
   "metadata": {},
   "outputs": [],
   "source": [
    "class person:\n",
    "    def accept(self):\n",
    "        self.ID= input('Enter ID:')\n",
    "        self.name= input('Enter Name:')\n",
    "        self.age= input('Enter Age:')\n",
    "        self.add= input('Enter Add:')\n",
    "class Employee(person):\n",
    "    def __init__(self):\n",
    "        self.emp_dept= input('Enter Dept:')\n",
    "        self.emp_sal=input('Enter Salary:')\n",
    "\n",
    "class Admin(Employee):\n",
    "    def __init__(self):\n",
    "        self.attendent=10\n",
    "        super().__init__()\n",
    "    def display(self):\n",
    "        print(self.attendent, self.emp_dept,self.emp_sal,self.ID,self.name,self.age,self.add)\n",
    "    "
   ]
  },
  {
   "cell_type": "code",
   "execution_count": 35,
   "id": "26df1bf8",
   "metadata": {},
   "outputs": [
    {
     "name": "stdout",
     "output_type": "stream",
     "text": [
      "Enter Dept:ABC\n",
      "Enter Salary:100000\n",
      "Enter ID:ABC\n",
      "Enter Name:Pheng\n",
      "Enter Age:30\n",
      "Enter Add:USA\n",
      "10 ABC 100000 ABC Pheng 30 USA\n"
     ]
    }
   ],
   "source": [
    "a=Admin()\n",
    "a.accept()\n",
    "a.display()"
   ]
  },
  {
   "cell_type": "code",
   "execution_count": null,
   "id": "b0c508fa",
   "metadata": {},
   "outputs": [],
   "source": [
    "#Multiple inheritance - Multiple parent for one child"
   ]
  },
  {
   "cell_type": "code",
   "execution_count": 6,
   "id": "88454073",
   "metadata": {},
   "outputs": [],
   "source": [
    "class person:\n",
    "    def __init__(self):\n",
    "        self.ID= input('Enter ID:')\n",
    "        self.name= input('Enter Name:')\n",
    "        self.age= input('Enter Age:')\n",
    "        self.add= input('Enter Add:')\n",
    "\n",
    "class Employee:\n",
    "    def __init__(self):\n",
    "        self.emp_dept= input('Enter Dept:')\n",
    "        self.emp_sal=input('Enter Salary:')\n",
    "\n",
    "class Admin(Employee,person):\n",
    "    def __init__(self):\n",
    "        self.attendent=25\n",
    "        person.__init__(self)\n",
    "        Employee.__init__(self)\n",
    "    def display(self):\n",
    "        print(self.attendent, self.emp_dept,self.emp_sal,self.ID,self.name,self.age,self.add)\n",
    "    "
   ]
  },
  {
   "cell_type": "code",
   "execution_count": 7,
   "id": "2f0d9ea3",
   "metadata": {},
   "outputs": [
    {
     "name": "stdout",
     "output_type": "stream",
     "text": [
      "Enter ID:168\n",
      "Enter Name:Pheng\n",
      "Enter Age:30\n",
      "Enter Add:USA\n",
      "Enter Dept:DS\n",
      "Enter Salary:100000\n",
      "25 DS 100000 168 Pheng 30 USA\n"
     ]
    }
   ],
   "source": [
    "a=Admin()\n",
    "a.display()"
   ]
  },
  {
   "cell_type": "code",
   "execution_count": null,
   "id": "d47d92db",
   "metadata": {},
   "outputs": [],
   "source": [
    "# Polymorphysm - Ability of an object to take more than one form"
   ]
  },
  {
   "cell_type": "code",
   "execution_count": null,
   "id": "e8a4a157",
   "metadata": {},
   "outputs": [],
   "source": []
  }
 ],
 "metadata": {
  "kernelspec": {
   "display_name": "Python 3 (ipykernel)",
   "language": "python",
   "name": "python3"
  },
  "language_info": {
   "codemirror_mode": {
    "name": "ipython",
    "version": 3
   },
   "file_extension": ".py",
   "mimetype": "text/x-python",
   "name": "python",
   "nbconvert_exporter": "python",
   "pygments_lexer": "ipython3",
   "version": "3.9.7"
  }
 },
 "nbformat": 4,
 "nbformat_minor": 5
}
